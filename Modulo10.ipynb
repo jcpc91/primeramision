{
 "cells": [
  {
   "cell_type": "code",
   "execution_count": 6,
   "metadata": {},
   "outputs": [
    {
     "name": "stdout",
     "output_type": "stream",
     "text": [
      "No se pudo encontrar el archivo en la ruta indicada\n"
     ]
    }
   ],
   "source": [
    "def readfile(path):\n",
    "    if path == \"\":\n",
    "        raise RuntimeError(\"Indicar la ruta del archivo a leer\")\n",
    "    try:\n",
    "        open(path)\n",
    "    except FileNotFoundError:\n",
    "        raise RuntimeError(\"No se pudo encontrar el archivo en la ruta indicada\")\n",
    "\n",
    "\n",
    "try:\n",
    "    readfile(\"c:/file.txt\")\n",
    "except RuntimeError as err:\n",
    "    print(err)\n"
   ]
  }
 ],
 "metadata": {
  "interpreter": {
   "hash": "8b8334dab9339717f727a1deaf837b322d7a41c20d15cc86be99a8e69ceec8ce"
  },
  "kernelspec": {
   "display_name": "Python 3.8.12 64-bit ('3.8.12')",
   "language": "python",
   "name": "python3"
  },
  "language_info": {
   "codemirror_mode": {
    "name": "ipython",
    "version": 3
   },
   "file_extension": ".py",
   "mimetype": "text/x-python",
   "name": "python",
   "nbconvert_exporter": "python",
   "pygments_lexer": "ipython3",
   "version": "3.8.12"
  },
  "orig_nbformat": 4
 },
 "nbformat": 4,
 "nbformat_minor": 2
}
