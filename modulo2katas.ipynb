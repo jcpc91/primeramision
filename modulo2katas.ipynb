{
 "cells": [
  {
   "cell_type": "code",
   "execution_count": 2,
   "metadata": {},
   "outputs": [
    {
     "name": "stdout",
     "output_type": "stream",
     "text": [
      "appnope==0.1.0\n",
      "attrs==19.3.0\n",
      "backcall==0.2.0\n",
      "bleach==3.1.5\n",
      "cycler==0.11.0\n",
      "decorator==4.4.2\n",
      "defusedxml==0.6.0\n",
      "entrypoints==0.3\n",
      "fonttools==4.29.1\n",
      "ipykernel==5.3.1\n",
      "ipython==7.16.1\n",
      "ipython-genutils==0.2.0\n",
      "ipywidgets==7.5.1\n",
      "jedi==0.17.1\n",
      "Jinja2==2.11.2\n",
      "jsonschema==3.2.0\n",
      "jupyter==1.0.0\n",
      "jupyter-client==6.1.5\n",
      "jupyter-console==6.1.0\n",
      "jupyter-core==4.6.3\n",
      "kiwisolver==1.3.2\n",
      "MarkupSafe==1.1.1\n",
      "matplotlib==3.5.1\n",
      "mistune==0.8.4\n",
      "nbconvert==5.6.1\n",
      "nbformat==5.0.7\n",
      "notebook==6.0.3\n",
      "numpy==1.22.2\n",
      "packaging==20.4\n",
      "pandocfilters==1.4.2\n",
      "parso==0.7.0\n",
      "pexpect==4.8.0\n",
      "pickleshare==0.7.5\n",
      "Pillow==9.0.1\n",
      "prometheus-client==0.8.0\n",
      "prompt-toolkit==3.0.5\n",
      "ptyprocess==0.6.0\n",
      "Pygments==2.6.1\n",
      "pyparsing==2.4.7\n",
      "pyrsistent==0.16.0\n",
      "python-dateutil==2.8.1\n",
      "pyzmq==19.0.1\n",
      "qtconsole==4.7.5\n",
      "QtPy==1.9.0\n",
      "Send2Trash==1.5.0\n",
      "six==1.15.0\n",
      "terminado==0.8.3\n",
      "testpath==0.4.4\n",
      "tornado==6.0.4\n",
      "traitlets==4.3.3\n",
      "wcwidth==0.2.5\n",
      "webencodings==0.5.1\n",
      "widgetsnbextension==3.5.1\n",
      "Note: you may need to restart the kernel to use updated packages.\n"
     ]
    }
   ],
   "source": [
    "pip freeze"
   ]
  },
  {
   "cell_type": "code",
   "execution_count": 1,
   "metadata": {},
   "outputs": [
    {
     "name": "stdout",
     "output_type": "stream",
     "text": [
      "Requirement already satisfied: python-dateutil in /Users/jcpc91/Library/Python/3.8/lib/python/site-packages (2.8.1)\n",
      "Requirement already satisfied: six>=1.5 in /Users/jcpc91/Library/Python/3.8/lib/python/site-packages (from python-dateutil) (1.15.0)\n",
      "\u001b[33mWARNING: You are using pip version 19.2.3, however version 22.0.3 is available.\n",
      "You should consider upgrading via the 'pip install --upgrade pip' command.\u001b[0m\n",
      "Note: you may need to restart the kernel to use updated packages.\n"
     ]
    }
   ],
   "source": [
    "pip install python-dateutil"
   ]
  },
  {
   "cell_type": "code",
   "execution_count": 2,
   "metadata": {},
   "outputs": [
    {
     "name": "stdout",
     "output_type": "stream",
     "text": [
      "Collecting pip\n",
      "\u001b[?25l  Downloading https://files.pythonhosted.org/packages/6a/df/a6ef77a6574781a668791419ffe366c8acd1c3cf4709d210cb53cd5ce1c2/pip-22.0.3-py3-none-any.whl (2.1MB)\n",
      "\u001b[K     |████████████████████████████████| 2.1MB 2.2MB/s eta 0:00:01\n",
      "\u001b[?25hInstalling collected packages: pip\n",
      "  Found existing installation: pip 19.2.3\n",
      "    Uninstalling pip-19.2.3:\n",
      "      Successfully uninstalled pip-19.2.3\n",
      "Successfully installed pip-22.0.3\n",
      "Note: you may need to restart the kernel to use updated packages.\n"
     ]
    }
   ],
   "source": [
    "pip install --upgrade pip"
   ]
  }
 ],
 "metadata": {
  "interpreter": {
   "hash": "aee8b7b246df8f9039afb4144a1f6fd8d2ca17a180786b69acc140d282b71a49"
  },
  "kernelspec": {
   "display_name": "Python 3.8.3 64-bit",
   "language": "python",
   "name": "python3"
  },
  "language_info": {
   "codemirror_mode": {
    "name": "ipython",
    "version": 3
   },
   "file_extension": ".py",
   "mimetype": "text/x-python",
   "name": "python",
   "nbconvert_exporter": "python",
   "pygments_lexer": "ipython3",
   "version": "3.8.3"
  },
  "orig_nbformat": 4
 },
 "nbformat": 4,
 "nbformat_minor": 2
}
