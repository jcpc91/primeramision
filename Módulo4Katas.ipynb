{
 "cells": [
  {
   "cell_type": "code",
   "execution_count": 7,
   "metadata": {},
   "outputs": [
    {
     "name": "stdout",
     "output_type": "stream",
     "text": [
      "['Interesting facts about the Moon', \" The Moon is Earth's only satellite\", ' There are several interesting facts about the Moon and how it affects life here on Earth', '']\n",
      "agarage\n",
      "teperature\n",
      "distance\n",
      "Interesting facts about the Moon\n",
      " The Moon is Earth's only satellite\n",
      " There are several interesting facts about the Moon and how it affects life here on Earth\n",
      "\n",
      "Interesting facts about the Moon The Moon is Earth's only satellite There are several interesting facts about the Moon and how it affects life here on Earth\n"
     ]
    }
   ],
   "source": [
    "text = \"\"\"Interesting facts about the Moon. The Moon is Earth's only satellite. There are several interesting facts about the Moon and how it affects life here on Earth.\"\"\"\n",
    "oracion = text.split(\".\")\n",
    "print(oracion)\n",
    "\n",
    "pista = [\"agarage\", \"teperature\", \"distance\"]\n",
    "for item in pista:\n",
    "    print(item)\n",
    "\n",
    "\n",
    "for item in oracion:\n",
    "    print(item)\n",
    "    item.replace('C', 'Celsius')\n",
    "\n",
    "print(\"\".join(oracion))"
   ]
  },
  {
   "cell_type": "code",
   "execution_count": 9,
   "metadata": {},
   "outputs": [
    {
     "name": "stdout",
     "output_type": "stream",
     "text": [
      "Gravity Facts About Ganymede\n",
      "\n",
      "-------------------------------------------------------------------------------\n",
      "Planet Name: Earth\n",
      "Gravity on Ganymede: 1.6199999999999999 m/s2\n",
      "In [ ]:\n",
      "\n"
     ]
    }
   ],
   "source": [
    "# Datos con los que vas a trabajar\n",
    "name = \"Moon\"\n",
    "gravity = 0.00162 # in kms\n",
    "planet = \"Earth\"\n",
    "print(\"Gravity Facts about Ganymede\".title())\n",
    "print(f\"\"\"\n",
    "-------------------------------------------------------------------------------\n",
    "Planet Name: {planet}\n",
    "Gravity on Ganymede: {gravity * 1000 } m/s2\n",
    "\"\"\")"
   ]
  },
  {
   "cell_type": "code",
   "execution_count": 10,
   "metadata": {},
   "outputs": [
    {
     "name": "stdout",
     "output_type": "stream",
     "text": [
      "Gravity Facts About Ganymede\n",
      "\n",
      "-------------------------------------------------------------------------------\n",
      "Planet Name: Earth\n",
      "Gravity on Ganymede: 1.4300000000000002 m/s2\n",
      "\n"
     ]
    }
   ],
   "source": [
    "planeta = 'Marte '\n",
    "gravedad  = 0.00143\n",
    "nombre = 'Ganímedes'\n",
    "\n",
    "print(\"Gravity Facts about Ganymede\".title())\n",
    "print(\"\"\"\n",
    "-------------------------------------------------------------------------------\n",
    "Planet Name: {0}\n",
    "Gravity on Ganymede: {1} m/s2\n",
    "\"\"\".format(planet, gravedad * 1000))\n"
   ]
  }
 ],
 "metadata": {
  "interpreter": {
   "hash": "8221abc54497bd61ed163993481e288ac17fcf903486c8aeab398ef0460bc191"
  },
  "kernelspec": {
   "display_name": "Python 3.8.3 ('env': venv)",
   "language": "python",
   "name": "python3"
  },
  "language_info": {
   "codemirror_mode": {
    "name": "ipython",
    "version": 3
   },
   "file_extension": ".py",
   "mimetype": "text/x-python",
   "name": "python",
   "nbconvert_exporter": "python",
   "pygments_lexer": "ipython3",
   "version": "3.8.3"
  },
  "orig_nbformat": 4
 },
 "nbformat": 4,
 "nbformat_minor": 2
}
