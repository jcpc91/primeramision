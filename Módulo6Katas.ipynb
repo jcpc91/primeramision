{
 "cells": [
  {
   "cell_type": "code",
   "execution_count": 5,
   "metadata": {},
   "outputs": [
    {
     "name": "stdout",
     "output_type": "stream",
     "text": [
      "Mercury\n",
      "Venus\n",
      "Earth\n",
      "Mars\n",
      "Jupiter\n",
      "Saturn\n",
      "Neptune\n",
      "planetas mas cerano: Mercury\n"
     ]
    }
   ],
   "source": [
    "planets = ['Mercury', 'Venus', 'Earth', 'Mars', 'Jupiter', 'Saturn', 'Neptune']\n",
    "for item in planets:\n",
    "    print(item)\n",
    "planet = input(\"seleccione un Planeta:\")\n",
    "index = planets.index('Venus')\n",
    "print(f\"planetas mas cerano: {planets[0]}\")"
   ]
  }
 ],
 "metadata": {
  "interpreter": {
   "hash": "8221abc54497bd61ed163993481e288ac17fcf903486c8aeab398ef0460bc191"
  },
  "kernelspec": {
   "display_name": "Python 3.8.3 ('env': venv)",
   "language": "python",
   "name": "python3"
  },
  "language_info": {
   "codemirror_mode": {
    "name": "ipython",
    "version": 3
   },
   "file_extension": ".py",
   "mimetype": "text/x-python",
   "name": "python",
   "nbconvert_exporter": "python",
   "pygments_lexer": "ipython3",
   "version": "3.8.3"
  },
  "orig_nbformat": 4
 },
 "nbformat": 4,
 "nbformat_minor": 2
}
