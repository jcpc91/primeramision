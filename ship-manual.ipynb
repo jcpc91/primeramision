{
 "cells": [
  {
   "cell_type": "markdown",
   "metadata": {},
   "source": [
    "# manual de la nave"
   ]
  },
  {
   "cell_type": "code",
   "execution_count": 1,
   "metadata": {},
   "outputs": [
    {
     "name": "stdout",
     "output_type": "stream",
     "text": [
      "Requirement already satisfied: ipywidgets in /Users/jcpc91/Library/Python/3.8/lib/python/site-packages (7.5.1)\n",
      "Requirement already satisfied: ipykernel>=4.5.1 in /Users/jcpc91/Library/Python/3.8/lib/python/site-packages (from ipywidgets) (5.3.1)\n",
      "Requirement already satisfied: traitlets>=4.3.1 in /Users/jcpc91/Library/Python/3.8/lib/python/site-packages (from ipywidgets) (4.3.3)\n",
      "Requirement already satisfied: widgetsnbextension~=3.5.0 in /Users/jcpc91/Library/Python/3.8/lib/python/site-packages (from ipywidgets) (3.5.1)\n",
      "Requirement already satisfied: nbformat>=4.2.0 in /Users/jcpc91/Library/Python/3.8/lib/python/site-packages (from ipywidgets) (5.0.7)\n",
      "Requirement already satisfied: ipython>=4.0.0; python_version >= \"3.3\" in /Users/jcpc91/Library/Python/3.8/lib/python/site-packages (from ipywidgets) (7.16.1)\n",
      "Requirement already satisfied: appnope; platform_system == \"Darwin\" in /Users/jcpc91/Library/Python/3.8/lib/python/site-packages (from ipykernel>=4.5.1->ipywidgets) (0.1.0)\n",
      "Requirement already satisfied: jupyter-client in /Users/jcpc91/Library/Python/3.8/lib/python/site-packages (from ipykernel>=4.5.1->ipywidgets) (6.1.5)\n",
      "Requirement already satisfied: tornado>=4.2 in /Users/jcpc91/Library/Python/3.8/lib/python/site-packages (from ipykernel>=4.5.1->ipywidgets) (6.0.4)\n",
      "Requirement already satisfied: ipython-genutils in /Users/jcpc91/Library/Python/3.8/lib/python/site-packages (from traitlets>=4.3.1->ipywidgets) (0.2.0)\n",
      "Requirement already satisfied: six in /Users/jcpc91/Library/Python/3.8/lib/python/site-packages (from traitlets>=4.3.1->ipywidgets) (1.15.0)\n",
      "Requirement already satisfied: decorator in /Users/jcpc91/Library/Python/3.8/lib/python/site-packages (from traitlets>=4.3.1->ipywidgets) (4.4.2)\n",
      "Requirement already satisfied: notebook>=4.4.1 in /Users/jcpc91/Library/Python/3.8/lib/python/site-packages (from widgetsnbextension~=3.5.0->ipywidgets) (6.0.3)\n",
      "Requirement already satisfied: jupyter-core in /Users/jcpc91/Library/Python/3.8/lib/python/site-packages (from nbformat>=4.2.0->ipywidgets) (4.6.3)\n",
      "Requirement already satisfied: jsonschema!=2.5.0,>=2.4 in /Users/jcpc91/Library/Python/3.8/lib/python/site-packages (from nbformat>=4.2.0->ipywidgets) (3.2.0)\n",
      "Requirement already satisfied: setuptools>=18.5 in /Library/Frameworks/Python.framework/Versions/3.8/lib/python3.8/site-packages (from ipython>=4.0.0; python_version >= \"3.3\"->ipywidgets) (41.2.0)\n",
      "Requirement already satisfied: jedi>=0.10 in /Users/jcpc91/Library/Python/3.8/lib/python/site-packages (from ipython>=4.0.0; python_version >= \"3.3\"->ipywidgets) (0.17.1)\n",
      "Requirement already satisfied: prompt-toolkit!=3.0.0,!=3.0.1,<3.1.0,>=2.0.0 in /Users/jcpc91/Library/Python/3.8/lib/python/site-packages (from ipython>=4.0.0; python_version >= \"3.3\"->ipywidgets) (3.0.5)\n",
      "Requirement already satisfied: backcall in /Users/jcpc91/Library/Python/3.8/lib/python/site-packages (from ipython>=4.0.0; python_version >= \"3.3\"->ipywidgets) (0.2.0)\n",
      "Requirement already satisfied: pexpect; sys_platform != \"win32\" in /Users/jcpc91/Library/Python/3.8/lib/python/site-packages (from ipython>=4.0.0; python_version >= \"3.3\"->ipywidgets) (4.8.0)\n",
      "Requirement already satisfied: pygments in /Users/jcpc91/Library/Python/3.8/lib/python/site-packages (from ipython>=4.0.0; python_version >= \"3.3\"->ipywidgets) (2.6.1)\n",
      "Requirement already satisfied: pickleshare in /Users/jcpc91/Library/Python/3.8/lib/python/site-packages (from ipython>=4.0.0; python_version >= \"3.3\"->ipywidgets) (0.7.5)\n",
      "Requirement already satisfied: python-dateutil>=2.1 in /Users/jcpc91/Library/Python/3.8/lib/python/site-packages (from jupyter-client->ipykernel>=4.5.1->ipywidgets) (2.8.1)\n",
      "Requirement already satisfied: pyzmq>=13 in /Users/jcpc91/Library/Python/3.8/lib/python/site-packages (from jupyter-client->ipykernel>=4.5.1->ipywidgets) (19.0.1)\n",
      "Requirement already satisfied: prometheus-client in /Users/jcpc91/Library/Python/3.8/lib/python/site-packages (from notebook>=4.4.1->widgetsnbextension~=3.5.0->ipywidgets) (0.8.0)\n",
      "Requirement already satisfied: jinja2 in /Users/jcpc91/Library/Python/3.8/lib/python/site-packages (from notebook>=4.4.1->widgetsnbextension~=3.5.0->ipywidgets) (2.11.2)\n",
      "Requirement already satisfied: Send2Trash in /Users/jcpc91/Library/Python/3.8/lib/python/site-packages (from notebook>=4.4.1->widgetsnbextension~=3.5.0->ipywidgets) (1.5.0)\n",
      "Requirement already satisfied: nbconvert in /Users/jcpc91/Library/Python/3.8/lib/python/site-packages (from notebook>=4.4.1->widgetsnbextension~=3.5.0->ipywidgets) (5.6.1)\n",
      "Requirement already satisfied: terminado>=0.8.1 in /Users/jcpc91/Library/Python/3.8/lib/python/site-packages (from notebook>=4.4.1->widgetsnbextension~=3.5.0->ipywidgets) (0.8.3)\n",
      "Requirement already satisfied: attrs>=17.4.0 in /Users/jcpc91/Library/Python/3.8/lib/python/site-packages (from jsonschema!=2.5.0,>=2.4->nbformat>=4.2.0->ipywidgets) (19.3.0)\n",
      "Requirement already satisfied: pyrsistent>=0.14.0 in /Users/jcpc91/Library/Python/3.8/lib/python/site-packages (from jsonschema!=2.5.0,>=2.4->nbformat>=4.2.0->ipywidgets) (0.16.0)\n",
      "Requirement already satisfied: parso<0.8.0,>=0.7.0 in /Users/jcpc91/Library/Python/3.8/lib/python/site-packages (from jedi>=0.10->ipython>=4.0.0; python_version >= \"3.3\"->ipywidgets) (0.7.0)\n",
      "Requirement already satisfied: wcwidth in /Users/jcpc91/Library/Python/3.8/lib/python/site-packages (from prompt-toolkit!=3.0.0,!=3.0.1,<3.1.0,>=2.0.0->ipython>=4.0.0; python_version >= \"3.3\"->ipywidgets) (0.2.5)\n",
      "Requirement already satisfied: ptyprocess>=0.5 in /Users/jcpc91/Library/Python/3.8/lib/python/site-packages (from pexpect; sys_platform != \"win32\"->ipython>=4.0.0; python_version >= \"3.3\"->ipywidgets) (0.6.0)\n",
      "Requirement already satisfied: MarkupSafe>=0.23 in /Users/jcpc91/Library/Python/3.8/lib/python/site-packages (from jinja2->notebook>=4.4.1->widgetsnbextension~=3.5.0->ipywidgets) (1.1.1)\n",
      "Requirement already satisfied: bleach in /Users/jcpc91/Library/Python/3.8/lib/python/site-packages (from nbconvert->notebook>=4.4.1->widgetsnbextension~=3.5.0->ipywidgets) (3.1.5)\n",
      "Requirement already satisfied: pandocfilters>=1.4.1 in /Users/jcpc91/Library/Python/3.8/lib/python/site-packages (from nbconvert->notebook>=4.4.1->widgetsnbextension~=3.5.0->ipywidgets) (1.4.2)\n",
      "Requirement already satisfied: testpath in /Users/jcpc91/Library/Python/3.8/lib/python/site-packages (from nbconvert->notebook>=4.4.1->widgetsnbextension~=3.5.0->ipywidgets) (0.4.4)\n",
      "Requirement already satisfied: defusedxml in /Users/jcpc91/Library/Python/3.8/lib/python/site-packages (from nbconvert->notebook>=4.4.1->widgetsnbextension~=3.5.0->ipywidgets) (0.6.0)\n",
      "Requirement already satisfied: mistune<2,>=0.8.1 in /Users/jcpc91/Library/Python/3.8/lib/python/site-packages (from nbconvert->notebook>=4.4.1->widgetsnbextension~=3.5.0->ipywidgets) (0.8.4)\n",
      "Requirement already satisfied: entrypoints>=0.2.2 in /Users/jcpc91/Library/Python/3.8/lib/python/site-packages (from nbconvert->notebook>=4.4.1->widgetsnbextension~=3.5.0->ipywidgets) (0.3)\n",
      "Requirement already satisfied: webencodings in /Users/jcpc91/Library/Python/3.8/lib/python/site-packages (from bleach->nbconvert->notebook>=4.4.1->widgetsnbextension~=3.5.0->ipywidgets) (0.5.1)\n",
      "Requirement already satisfied: packaging in /Users/jcpc91/Library/Python/3.8/lib/python/site-packages (from bleach->nbconvert->notebook>=4.4.1->widgetsnbextension~=3.5.0->ipywidgets) (20.4)\n",
      "Requirement already satisfied: pyparsing>=2.0.2 in /Users/jcpc91/Library/Python/3.8/lib/python/site-packages (from packaging->bleach->nbconvert->notebook>=4.4.1->widgetsnbextension~=3.5.0->ipywidgets) (2.4.7)\n",
      "\u001b[33mWARNING: You are using pip version 19.2.3, however version 22.0.3 is available.\n",
      "You should consider upgrading via the 'pip install --upgrade pip' command.\u001b[0m\n",
      "Note: you may need to restart the kernel to use updated packages.\n"
     ]
    }
   ],
   "source": [
    "pip install ipywidgets"
   ]
  },
  {
   "cell_type": "code",
   "execution_count": 2,
   "metadata": {},
   "outputs": [
    {
     "data": {
      "application/vnd.jupyter.widget-view+json": {
       "model_id": "5e9477f1c32346c4b8bd5c2d3dff3c5d",
       "version_major": 2,
       "version_minor": 0
      },
      "text/plain": [
       "ToggleButton(value=False, button_style='success', description='Iniciar launch', icon='rocket', tooltip='Engage…"
      ]
     },
     "metadata": {},
     "output_type": "display_data"
    },
    {
     "data": {
      "application/vnd.jupyter.widget-view+json": {
       "model_id": "c14a31d944484887bdbbddf00431683f",
       "version_major": 2,
       "version_minor": 0
      },
      "text/plain": [
       "Output()"
      ]
     },
     "metadata": {},
     "output_type": "display_data"
    }
   ],
   "source": [
    "import ipywidgets as widgets\n",
    "\n",
    "ignition = widgets.ToggleButton(\n",
    "    value=False,\n",
    "    description = 'Iniciar launch',\n",
    "    button_style= 'success',\n",
    "    tooltip= 'Engage your launch',\n",
    "    icon='rocket'\n",
    ")\n",
    "\n",
    "output = widgets.Output()\n",
    "display(ignition, output)\n",
    "def on_value_change(change):\n",
    "    with output:\n",
    "        if change['new'] == True:\n",
    "            print(\"Nave iniciada\")\n",
    "        else:\n",
    "            print('nave detenida')\n",
    "ignition.observe(on_value_change, names='value')"
   ]
  },
  {
   "cell_type": "code",
   "execution_count": 5,
   "metadata": {},
   "outputs": [
    {
     "name": "stdout",
     "output_type": "stream",
     "text": [
      "Collecting matplotlib\n",
      "\u001b[?25l  Downloading https://files.pythonhosted.org/packages/9f/35/73d0df80bff331638e42a214d03dfab3606b3687cbbd6724f4e05dd06ccf/matplotlib-3.5.1-cp38-cp38-macosx_10_9_x86_64.whl (7.3MB)\n",
      "\u001b[K     |████████████████████████████████| 7.3MB 1.7MB/s eta 0:00:01\n",
      "\u001b[?25hCollecting cycler>=0.10 (from matplotlib)\n",
      "  Downloading https://files.pythonhosted.org/packages/5c/f9/695d6bedebd747e5eb0fe8fad57b72fdf25411273a39791cde838d5a8f51/cycler-0.11.0-py3-none-any.whl\n",
      "Collecting kiwisolver>=1.0.1 (from matplotlib)\n",
      "\u001b[?25l  Downloading https://files.pythonhosted.org/packages/66/73/fa9d7025654c87d223b8be880975956093baaf55e5935637573283d3abc4/kiwisolver-1.3.2-cp38-cp38-macosx_10_9_x86_64.whl (61kB)\n",
      "\u001b[K     |████████████████████████████████| 71kB 17.0MB/s eta 0:00:01\n",
      "\u001b[?25hCollecting fonttools>=4.22.0 (from matplotlib)\n",
      "\u001b[?25l  Downloading https://files.pythonhosted.org/packages/1d/46/65a58d7b92905e2767000b3f6eb1d0301e9ed7d459d14461075c1db63349/fonttools-4.29.1-py3-none-any.whl (895kB)\n",
      "\u001b[K     |████████████████████████████████| 901kB 12.0MB/s eta 0:00:01\n",
      "\u001b[?25hRequirement already satisfied: packaging>=20.0 in /Users/jcpc91/Library/Python/3.8/lib/python/site-packages (from matplotlib) (20.4)\n",
      "Collecting pillow>=6.2.0 (from matplotlib)\n",
      "\u001b[?25l  Downloading https://files.pythonhosted.org/packages/f3/34/04170ba6c6c58d07806b75da4ed96d39d0ba63e36a6830118434e9da9542/Pillow-9.0.1-cp38-cp38-macosx_10_10_x86_64.whl (3.0MB)\n",
      "\u001b[K     |████████████████████████████████| 3.0MB 10.5MB/s eta 0:00:01\n",
      "\u001b[?25hCollecting numpy>=1.17 (from matplotlib)\n",
      "\u001b[?25l  Downloading https://files.pythonhosted.org/packages/25/85/7bb7c2bb23818db17cd4dbff1d4bbac6a19275d98950f1fc4de5a824fff7/numpy-1.22.2-cp38-cp38-macosx_10_14_x86_64.whl (17.6MB)\n",
      "\u001b[K     |████████████████████████████████| 17.6MB 23.5MB/s eta 0:00:01    |████▉                           | 2.7MB 10.8MB/s eta 0:00:02████▌                         | 3.6MB 10.8MB/s eta 0:00:02\n",
      "\u001b[?25hRequirement already satisfied: pyparsing>=2.2.1 in /Users/jcpc91/Library/Python/3.8/lib/python/site-packages (from matplotlib) (2.4.7)\n",
      "Requirement already satisfied: python-dateutil>=2.7 in /Users/jcpc91/Library/Python/3.8/lib/python/site-packages (from matplotlib) (2.8.1)\n",
      "Requirement already satisfied: six in /Users/jcpc91/Library/Python/3.8/lib/python/site-packages (from packaging>=20.0->matplotlib) (1.15.0)\n",
      "Installing collected packages: cycler, kiwisolver, fonttools, pillow, numpy, matplotlib\n",
      "Successfully installed cycler-0.11.0 fonttools-4.29.1 kiwisolver-1.3.2 matplotlib-3.5.1 numpy-1.22.2 pillow-9.0.1\n",
      "\u001b[33mWARNING: You are using pip version 19.2.3, however version 22.0.3 is available.\n",
      "You should consider upgrading via the 'pip install --upgrade pip' command.\u001b[0m\n",
      "Note: you may need to restart the kernel to use updated packages.\n"
     ]
    }
   ],
   "source": [
    "pip install matplotlib"
   ]
  },
  {
   "cell_type": "code",
   "execution_count": 6,
   "metadata": {},
   "outputs": [
    {
     "name": "stdout",
     "output_type": "stream",
     "text": [
      "Requirement already satisfied: numpy in /Library/Frameworks/Python.framework/Versions/3.8/lib/python3.8/site-packages (1.22.2)\n",
      "\u001b[33mWARNING: You are using pip version 19.2.3, however version 22.0.3 is available.\n",
      "You should consider upgrading via the 'pip install --upgrade pip' command.\u001b[0m\n",
      "Note: you may need to restart the kernel to use updated packages.\n"
     ]
    }
   ],
   "source": [
    "pip install numpy"
   ]
  },
  {
   "cell_type": "markdown",
   "metadata": {},
   "source": [
    "## Niveles de Oxígeno\n",
    "\n",
    "Muestra diez minutos de niveles de oxígeno en tu nave."
   ]
  },
  {
   "cell_type": "code",
   "execution_count": 7,
   "metadata": {},
   "outputs": [
    {
     "name": "stderr",
     "output_type": "stream",
     "text": [
      "Matplotlib is building the font cache; this may take a moment.\n"
     ]
    },
    {
     "data": {
      "image/png": "[encoded data removed]",
      "text/plain": [
       "<Figure size 432x288 with 1 Axes>"
      ]
     },
     "metadata": {
      "needs_background": "light"
     },
     "output_type": "display_data"
    }
   ],
   "source": [
    "import numpy as np\n",
    "import matplotlib.pyplot as plt\n",
    "data = np.random.default_rng(12345)\n",
    "oxy_nums = data.integers(low = 0, high = 10, size = 10)\n",
    "plt.bar(range(len(oxy_nums)), oxy_nums)\n",
    "plt.show()"
   ]
  },
  {
   "cell_type": "markdown",
   "metadata": {},
   "source": [
    "## Velocidad de la nave\n",
    "\n",
    "Muestra los segundos necesarios para pasar de 0 a 11200 metros por segundo, dada la aceleración de la nave en metros por segundo."
   ]
  },
  {
   "cell_type": "code",
   "execution_count": 13,
   "metadata": {},
   "outputs": [
    {
     "name": "stdout",
     "output_type": "stream",
     "text": [
      "Tiempo para alcanzar la velocidad deseada =  256.5172054223149\n"
     ]
    }
   ],
   "source": [
    "endVelocity = 49200\n",
    "startVelocity = 0\n",
    "acceleration = 191.8\n",
    "\n",
    "time = (endVelocity - startVelocity) / acceleration\n",
    "print(\"Tiempo para alcanzar la velocidad deseada = \", time)"
   ]
  }
 ],
 "metadata": {
  "interpreter": {
   "hash": "aee8b7b246df8f9039afb4144a1f6fd8d2ca17a180786b69acc140d282b71a49"
  },
  "kernelspec": {
   "display_name": "Python 3.8.3 64-bit",
   "language": "python",
   "name": "python3"
  },
  "language_info": {
   "codemirror_mode": {
    "name": "ipython",
    "version": 3
   },
   "file_extension": ".py",
   "mimetype": "text/x-python",
   "name": "python",
   "nbconvert_exporter": "python",
   "pygments_lexer": "ipython3",
   "version": "3.8.3"
  },
  "orig_nbformat": 4
 },
 "nbformat": 4,
 "nbformat_minor": 2
}
