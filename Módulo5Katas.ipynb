{
 "cells": [
  {
   "cell_type": "code",
   "execution_count": 6,
   "metadata": {},
   "outputs": [
    {
     "name": "stdout",
     "output_type": "stream",
     "text": [
      "distancia a jupiter es 628949330 km\n",
      "distancia a jupiter es 390577533.93 millas\n"
     ]
    }
   ],
   "source": [
    "earth = 149597870\n",
    "jupiter = 778547200\n",
    "distancia = jupiter - earth\n",
    "print(f\"distancia a jupiter es {distancia} km\")\n",
    "\n",
    "print(f\"distancia a jupiter es {distancia * 0.621} millas\")"
   ]
  },
  {
   "cell_type": "code",
   "execution_count": 5,
   "metadata": {},
   "outputs": [
    {
     "name": "stdout",
     "output_type": "stream",
     "text": [
      "distancia a planeta 2 es 50300000 km\n",
      "distancia a planeta 2 es 31236300.0 millas\n"
     ]
    }
   ],
   "source": [
    "planeta1  = int(input(\"Planeta 1?\"))\n",
    "planeta2 = int(input(\"Platneta 2:\"))\n",
    "distancia = abs(planeta2 - planeta1)\n",
    "\n",
    "print(f\"distancia a planeta 2 es {distancia} km\")\n",
    "\n",
    "print(f\"distancia a planeta 2 es {distancia * 0.621} millas\")"
   ]
  }
 ],
 "metadata": {
  "interpreter": {
   "hash": "8221abc54497bd61ed163993481e288ac17fcf903486c8aeab398ef0460bc191"
  },
  "kernelspec": {
   "display_name": "Python 3.8.3 ('env': venv)",
   "language": "python",
   "name": "python3"
  },
  "language_info": {
   "codemirror_mode": {
    "name": "ipython",
    "version": 3
   },
   "file_extension": ".py",
   "mimetype": "text/x-python",
   "name": "python",
   "nbconvert_exporter": "python",
   "pygments_lexer": "ipython3",
   "version": "3.8.3"
  },
  "orig_nbformat": 4
 },
 "nbformat": 4,
 "nbformat_minor": 2
}
