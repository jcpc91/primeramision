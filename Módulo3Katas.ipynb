{
 "cells": [
  {
   "cell_type": "code",
   "execution_count": null,
   "metadata": {},
   "outputs": [],
   "source": [
    "velocidadAstseroide = 19\n",
    "if velocidadAstseroide > 20:\n",
    "    print('advertencia')\n",
    "else:\n",
    "    print(':)')"
   ]
  },
  {
   "cell_type": "code",
   "execution_count": null,
   "metadata": {},
   "outputs": [],
   "source": [
    "velocidadAstseroide = 19\n",
    "tamano = 0\n",
    "rayoluz = True\n",
    "if rayoluz == True:\n",
    "    print(\"se puede ver\")\n",
    "else:\n",
    "    print(\"no se puede ver\")\n"
   ]
  },
  {
   "cell_type": "code",
   "execution_count": 3,
   "metadata": {},
   "outputs": [
    {
     "name": "stdout",
     "output_type": "stream",
     "text": [
      "sin peligro\n"
     ]
    }
   ],
   "source": [
    "velocidadAstseroide = 19\n",
    "tamano = 2\n",
    "if tamano < 25:\n",
    "    if velocidadAstseroide >= 20:\n",
    "        print(\"se quemará en la atmosfera\")\n",
    "    else:\n",
    "        print(\"sin peligro\")\n",
    "elif tamano > 25 and tamano < 1000:\n",
    "    print(\"Extinsión\")"
   ]
  }
 ],
 "metadata": {
  "interpreter": {
   "hash": "8221abc54497bd61ed163993481e288ac17fcf903486c8aeab398ef0460bc191"
  },
  "kernelspec": {
   "display_name": "Python 3.8.3 ('env': venv)",
   "language": "python",
   "name": "python3"
  },
  "language_info": {
   "codemirror_mode": {
    "name": "ipython",
    "version": 3
   },
   "file_extension": ".py",
   "mimetype": "text/x-python",
   "name": "python",
   "nbconvert_exporter": "python",
   "pygments_lexer": "ipython3",
   "version": "3.8.3"
  },
  "orig_nbformat": 4
 },
 "nbformat": 4,
 "nbformat_minor": 2
}
